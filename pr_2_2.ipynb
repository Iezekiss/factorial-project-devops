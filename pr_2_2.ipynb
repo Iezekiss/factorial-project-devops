{
 "cells": [
  {
   "cell_type": "code",
   "execution_count": 6,
   "id": "a32a9470-a10d-4440-934b-85de4c0df00f",
   "metadata": {},
   "outputs": [
    {
     "name": "stdout",
     "output_type": "stream",
     "text": [
      "120\n",
      "Factorial otriz chisla ne opredelen\n"
     ]
    }
   ],
   "source": [
    "#easy factorial\n",
    "def factorial(n):\n",
    "    if n < 0:\n",
    "        raise ValueError(\"Factorial otriz chisla ne opredelen\")\n",
    "    elif n == 0 or n ==1:\n",
    "        return 1\n",
    "    else:\n",
    "        return n * factorial(n-1)\n",
    "\n",
    "#is working\n",
    "print(factorial(5))\n",
    "try:\n",
    "    print(factorial(-1))\n",
    "except ValueError as e:\n",
    "    print(e)"
   ]
  },
  {
   "cell_type": "raw",
   "id": "37a34e45-adf9-478f-8776-0ac162210b11",
   "metadata": {},
   "source": []
  }
 ],
 "metadata": {
  "kernelspec": {
   "display_name": "Python 3 (ipykernel)",
   "language": "python",
   "name": "python3"
  },
  "language_info": {
   "codemirror_mode": {
    "name": "ipython",
    "version": 3
   },
   "file_extension": ".py",
   "mimetype": "text/x-python",
   "name": "python",
   "nbconvert_exporter": "python",
   "pygments_lexer": "ipython3",
   "version": "3.12.5"
  }
 },
 "nbformat": 4,
 "nbformat_minor": 5
}
