{
 "cells": [
  {
   "cell_type": "code",
   "execution_count": 2,
   "id": "a32a9470-a10d-4440-934b-85de4c0df00f",
   "metadata": {},
   "outputs": [
    {
     "name": "stdout",
     "output_type": "stream",
     "text": [
      "Factorial 0 equal 1\n",
      "Factorial 1 equal 1\n",
      "Factorial 2 equal 2\n",
      "Factorial 3 equal 6\n",
      "Factorial 4 equal 24\n"
     ]
    },
    {
     "name": "stdin",
     "output_type": "stream",
     "text": [
      "Write int:  7\n"
     ]
    },
    {
     "name": "stdout",
     "output_type": "stream",
     "text": [
      "Factorial 7 equal 5040\n"
     ]
    }
   ],
   "source": [
    "#easy factorial\n",
    "def factorial(n):\n",
    "    if n == 0 or n == 1:\n",
    "        return 1\n",
    "    else:\n",
    "        return n * factorial (n-1)\n",
    "\n",
    "#is working\n",
    "for i in range(5):\n",
    "    print(f\"Factorial {i} equal {factorial(i)}\")\n",
    "\n",
    "#interactive input\n",
    "number = int(input(\"Write int: \"))\n",
    "print(f\"Factorial {number} equal {factorial(number)}\")\n"
   ]
  },
  {
   "cell_type": "code",
   "execution_count": null,
   "id": "ce8db80c-2ae4-478f-968f-169cb39e842d",
   "metadata": {},
   "outputs": [],
   "source": []
  }
 ],
 "metadata": {
  "kernelspec": {
   "display_name": "Python 3 (ipykernel)",
   "language": "python",
   "name": "python3"
  },
  "language_info": {
   "codemirror_mode": {
    "name": "ipython",
    "version": 3
   },
   "file_extension": ".py",
   "mimetype": "text/x-python",
   "name": "python",
   "nbconvert_exporter": "python",
   "pygments_lexer": "ipython3",
   "version": "3.12.5"
  }
 },
 "nbformat": 4,
 "nbformat_minor": 5
}
